{
 "cells": [
  {
   "cell_type": "code",
   "execution_count": null,
   "id": "67cdecfd",
   "metadata": {},
   "outputs": [],
   "source": [
    "import numpy as np\n",
    "import matplotlib.pyplot as plt\n",
    "from scipy.stats import chi2, t, norm"
   ]
  },
  {
   "cell_type": "code",
   "execution_count": null,
   "id": "086df8c2",
   "metadata": {},
   "outputs": [],
   "source": [
    "plt.figure(figsize=(15,10))\n",
    "x = np.arange(0, 20, 0.001)\n",
    "\n",
    "for i in range(3, 10):\n",
    "    plt.plot(x, chi2.pdf(x, df=i), label='df: {}'.format(i))\n",
    "plt.rc('legend', fontsize=15)\n",
    "plt.legend(title='Parameters')\n",
    "\n",
    "plt.ylabel('Density',fontsize=20)\n",
    "plt.xlabel('x', fontsize=20)\n",
    "plt.title('Chi-Square Distributions', fontsize=20)\n",
    "plt.savefig(\"chi_square_density.pdf\")"
   ]
  },
  {
   "cell_type": "code",
   "execution_count": null,
   "id": "618379a4",
   "metadata": {},
   "outputs": [],
   "source": [
    "plt.figure(figsize=(12,8))\n",
    "x = np.arange(-5, 5, 0.001)\n",
    "\n",
    "for i in range(1,8):\n",
    "    plt.plot(x, t.pdf(x, df=i), label='df: {}'.format(i))\n",
    "    \n",
    "plt.rc('legend', fontsize=20)\n",
    "plt.legend(title='Parameters', title_fontsize=15)\n",
    "\n",
    "plt.ylabel('Density',fontsize=20)\n",
    "plt.xlabel('x', fontsize=20)\n",
    "plt.title('Student t-distributions', fontsize=20)\n",
    "plt.grid(True)\n",
    "plt.tight_layout()\n",
    "plt.savefig(\"t_density.pdf\")"
   ]
  },
  {
   "cell_type": "code",
   "execution_count": null,
   "id": "9a7d2386",
   "metadata": {},
   "outputs": [],
   "source": [
    "plt.figure(figsize=(15,10))\n",
    "d_f = 2\n",
    "plt.plot(x, t.pdf(x, df= d_f), label='df: {}'.format(d_f))\n",
    "plt.plot(x, norm.pdf(x), label='Z')    \n",
    "plt.legend(title='Parameters')\n",
    "\n",
    "plt.ylabel('Density')\n",
    "plt.xlabel('x')\n",
    "plt.title('Student t-distribution vs Standard Normal', fontsize=14)"
   ]
  },
  {
   "cell_type": "code",
   "execution_count": null,
   "id": "8617d4c0",
   "metadata": {},
   "outputs": [],
   "source": [
    "plt.figure(figsize=(12,8))\n",
    "d_f = 100\n",
    "plt.plot(x, t.pdf(x, df= d_f), label='t-distribution, df: {}'.format(d_f))\n",
    "\n",
    "plt.plot(x, norm.pdf(x), label='Standard Normal')  \n",
    "\n",
    "d_f = 2\n",
    "plt.plot(x, t.pdf(x, df= d_f), label='t-distribution, df: {}'.format(d_f))\n",
    "\n",
    "plt.rc('legend', fontsize=15)\n",
    "plt.legend()\n",
    "\n",
    "plt.ylabel('Density',fontsize=20)\n",
    "plt.xlabel('x', fontsize=20)\n",
    "plt.title('Student t-distribution vs Standard Normal', fontsize=20)\n",
    "plt.grid(True)\n",
    "plt.tight_layout()\n",
    "plt.savefig(\"t_limit_z.pdf\")"
   ]
  },
  {
   "cell_type": "code",
   "execution_count": null,
   "id": "433596ee",
   "metadata": {},
   "outputs": [],
   "source": []
  }
 ],
 "metadata": {
  "kernelspec": {
   "display_name": "Python 3 (ipykernel)",
   "language": "python",
   "name": "python3"
  },
  "language_info": {
   "codemirror_mode": {
    "name": "ipython",
    "version": 3
   },
   "file_extension": ".py",
   "mimetype": "text/x-python",
   "name": "python",
   "nbconvert_exporter": "python",
   "pygments_lexer": "ipython3",
   "version": "3.9.7"
  }
 },
 "nbformat": 4,
 "nbformat_minor": 5
}
